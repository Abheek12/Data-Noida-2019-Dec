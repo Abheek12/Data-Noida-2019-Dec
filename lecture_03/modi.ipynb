{
 "cells": [
  {
   "cell_type": "code",
   "execution_count": 1,
   "metadata": {},
   "outputs": [],
   "source": [
    "import requests\n",
    "\n",
    "link = r\"https://i.ytimg.com/vi/fkorWPoi6E0/maxresdefault.jpg\"\n",
    "\n",
    "data = requests.get(link)\n",
    "\n",
    "with open(\"panda.jpg\", \"wb\") as pfile:\n",
    "    pfile.write(data.content)\n",
    "\n",
    "# data.content"
   ]
  },
  {
   "cell_type": "code",
   "execution_count": 1,
   "metadata": {},
   "outputs": [],
   "source": [
    "import requests\n",
    "\n",
    "link = r\"https://cb.lk/speech\"\n",
    "\n",
    "data = requests.get(link)\n",
    "\n",
    "# with open(\"modi.txt\", \"wt\", encoding=\"utf-8\") as pfile:\n",
    "#     pfile.write(data.text)"
   ]
  },
  {
   "cell_type": "code",
   "execution_count": 2,
   "metadata": {},
   "outputs": [
    {
     "data": {
      "text/plain": [
       "200"
      ]
     },
     "execution_count": 2,
     "metadata": {},
     "output_type": "execute_result"
    }
   ],
   "source": [
    "data.status_code"
   ]
  },
  {
   "cell_type": "code",
   "execution_count": 3,
   "metadata": {},
   "outputs": [],
   "source": [
    "speech = data.text"
   ]
  },
  {
   "cell_type": "code",
   "execution_count": 30,
   "metadata": {},
   "outputs": [],
   "source": [
    "import random\n",
    "\n",
    "window = 12\n",
    "\n",
    "freq = {}\n",
    "\n",
    "for k in range(window, len(speech)):\n",
    "    word = speech[k-window: k]\n",
    "    \n",
    "    ch = speech[k]\n",
    "    \n",
    "    if word not in freq:\n",
    "        freq[word] = {}\n",
    "        \n",
    "    if ch not in freq[word]:\n",
    "        freq[word][ch] = 0\n",
    "        \n",
    "    freq[word][ch] += 1"
   ]
  },
  {
   "cell_type": "code",
   "execution_count": 31,
   "metadata": {},
   "outputs": [],
   "source": [
    "seed = \"people get together and form a group\""
   ]
  },
  {
   "cell_type": "code",
   "execution_count": 32,
   "metadata": {},
   "outputs": [],
   "source": [
    "for i in range(500):\n",
    "\n",
    "    cut = seed[-window:]\n",
    "\n",
    "    fqs = freq[cut]\n",
    "\n",
    "    top_fqs = sorted(fqs.items(), key=lambda x: x[1], reverse=True)[:3]\n",
    "\n",
    "    next_ch = random.choice(top_fqs)[0]\n",
    "\n",
    "    seed = seed + next_ch"
   ]
  },
  {
   "cell_type": "code",
   "execution_count": 33,
   "metadata": {},
   "outputs": [
    {
     "name": "stdout",
     "output_type": "stream",
     "text": [
      "people get together and form a group and if they get water, then the Government of Mahant Avaidyanath ji, as my association. \n",
      "Honorable Chairman Sir, \n",
      "We had a discussion is on social media is reducing. Due to this process of the country was turned into a prison. Lakhs of people in ways that has been checked. We saved lot of amount. We decided to provide services to the interface between India, Maldives, Nepal, Sri Lanka, India and two-thirds of the working  of the public opinion. The people\n",
      "themselves to three brothers from my st\n"
     ]
    }
   ],
   "source": [
    "print(seed)"
   ]
  },
  {
   "cell_type": "code",
   "execution_count": null,
   "metadata": {},
   "outputs": [],
   "source": []
  }
 ],
 "metadata": {
  "kernelspec": {
   "display_name": "Python 3",
   "language": "python",
   "name": "python3"
  },
  "language_info": {
   "codemirror_mode": {
    "name": "ipython",
    "version": 3
   },
   "file_extension": ".py",
   "mimetype": "text/x-python",
   "name": "python",
   "nbconvert_exporter": "python",
   "pygments_lexer": "ipython3",
   "version": "3.7.2"
  }
 },
 "nbformat": 4,
 "nbformat_minor": 4
}
