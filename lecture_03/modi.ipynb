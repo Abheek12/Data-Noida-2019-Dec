{
 "cells": [
  {
   "cell_type": "code",
   "execution_count": 1,
   "metadata": {},
   "outputs": [],
   "source": [
    "import requests\n",
    "\n",
    "link = r\"https://i.ytimg.com/vi/fkorWPoi6E0/maxresdefault.jpg\"\n",
    "\n",
    "data = requests.get(link)\n",
    "\n",
    "with open(\"panda.jpg\", \"wb\") as pfile:\n",
    "    pfile.write(data.content)\n",
    "\n",
    "# data.content"
   ]
  },
  {
   "cell_type": "code",
   "execution_count": 21,
   "metadata": {},
   "outputs": [],
   "source": [
    "import requests\n",
    "\n",
    "link = r\"https://cb.lk/speech\"\n",
    "\n",
    "data = requests.get(link)\n",
    "\n",
    "with open(\"modi.txt\", \"wt\", encoding=\"utf-8\") as pfile:\n",
    "    pfile.write(data.text)"
   ]
  },
  {
   "cell_type": "code",
   "execution_count": 19,
   "metadata": {},
   "outputs": [
    {
     "data": {
      "text/plain": [
       "200"
      ]
     },
     "execution_count": 19,
     "metadata": {},
     "output_type": "execute_result"
    }
   ],
   "source": [
    "data.status_code"
   ]
  },
  {
   "cell_type": "code",
   "execution_count": 23,
   "metadata": {},
   "outputs": [],
   "source": [
    "speech = data.text"
   ]
  },
  {
   "cell_type": "code",
   "execution_count": 32,
   "metadata": {},
   "outputs": [],
   "source": [
    "window = 5\n",
    "\n",
    "freq = {}\n",
    "\n",
    "for k in range(window, len(speech)):\n",
    "    word = speech[k-window: k]\n",
    "    \n",
    "    ch = speech[k]\n",
    "    \n",
    "    if word not in freq:\n",
    "        freq[word] = {}\n",
    "        \n",
    "    if ch not in freq[word]:\n",
    "        freq[word][ch] = 0\n",
    "        \n",
    "    freq[word][ch] += 1"
   ]
  },
  {
   "cell_type": "code",
   "execution_count": 34,
   "metadata": {},
   "outputs": [],
   "source": [
    "seed = \"people get together and form a group\""
   ]
  },
  {
   "cell_type": "code",
   "execution_count": null,
   "metadata": {},
   "outputs": [],
   "source": []
  }
 ],
 "metadata": {
  "kernelspec": {
   "display_name": "Python 3",
   "language": "python",
   "name": "python3"
  },
  "language_info": {
   "codemirror_mode": {
    "name": "ipython",
    "version": 3
   },
   "file_extension": ".py",
   "mimetype": "text/x-python",
   "name": "python",
   "nbconvert_exporter": "python",
   "pygments_lexer": "ipython3",
   "version": "3.7.2"
  }
 },
 "nbformat": 4,
 "nbformat_minor": 4
}
