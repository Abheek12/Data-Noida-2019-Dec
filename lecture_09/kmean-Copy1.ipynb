{
 "cells": [
  {
   "cell_type": "code",
   "execution_count": 1,
   "metadata": {},
   "outputs": [],
   "source": [
    "import numpy as np\n",
    "import matplotlib.pyplot as plt\n",
    "\n",
    "import random\n",
    "\n",
    "from sklearn.datasets import make_blobs"
   ]
  },
  {
   "cell_type": "code",
   "execution_count": 28,
   "metadata": {},
   "outputs": [],
   "source": [
    "X, y = make_blobs(100, centers=6, random_state=42)"
   ]
  },
  {
   "cell_type": "code",
   "execution_count": 29,
   "metadata": {},
   "outputs": [
    {
     "data": {
      "text/plain": [
       "<matplotlib.collections.PathCollection at 0x1a1eafcf98>"
      ]
     },
     "execution_count": 29,
     "metadata": {},
     "output_type": "execute_result"
    },
    {
     "data": {
      "image/png": "[encoded data removed]",
      "text/plain": [
       "<Figure size 432x288 with 1 Axes>"
      ]
     },
     "metadata": {
      "needs_background": "light"
     },
     "output_type": "display_data"
    }
   ],
   "source": [
    "plt.scatter(X[:, 0], X[:, 1])"
   ]
  },
  {
   "cell_type": "code",
   "execution_count": 30,
   "metadata": {},
   "outputs": [],
   "source": [
    "class Cluster:\n",
    "    \n",
    "    def __init__(self, center, label):\n",
    "        \n",
    "        self.center = center\n",
    "        self.label = label\n",
    "        self.points = []\n",
    "    \n",
    "    \n",
    "    def relocate(self):\n",
    "        self.center = np.mean(self.points, axis=0)\n",
    "        self.points = []\n",
    "        \n",
    "    def distance(self, point):\n",
    "        return np.sqrt(((self.center - point) ** 2).sum())"
   ]
  },
  {
   "cell_type": "code",
   "execution_count": 31,
   "metadata": {},
   "outputs": [],
   "source": [
    "class KMeansCustom:\n",
    "    \n",
    "    def __init__(self, n_clusters=3, max_iters=20, n_init=10):\n",
    "        \n",
    "        self.n_clusters = n_clusters\n",
    "        self.max_iters = max_iters\n",
    "        self.n_init = n_init\n",
    "        \n",
    "    def fit(self, X):\n",
    "        \n",
    "        self.__X = X\n",
    "        \n",
    "        steps = []\n",
    "        \n",
    "        for simulation in range(self.n_init):\n",
    "\n",
    "            clusters = []\n",
    "\n",
    "            for i in range(self.n_clusters):\n",
    "                cluster = Cluster(random.choice(X), i)\n",
    "                clusters.append(cluster)\n",
    "\n",
    "            errors = []\n",
    "\n",
    "            for i in range(self.max_iters):\n",
    "                labels = []\n",
    "\n",
    "                for point in X:\n",
    "                    distances = []\n",
    "\n",
    "                    for cluster in clusters:\n",
    "                        dis = cluster.distance(point)\n",
    "                        distances.append((dis, cluster))\n",
    "\n",
    "                    index = np.array(distances)[:, 0].argmin()\n",
    "\n",
    "                    selected_dis, selected_cluster = distances[index]\n",
    "\n",
    "                    selected_cluster.points.append(point)\n",
    "                    labels.append(selected_cluster.label)\n",
    "\n",
    "                for cluster in clusters:\n",
    "                    cluster.relocate()\n",
    "\n",
    "                errors.append(self.error(labels, clusters))\n",
    "\n",
    "            final_error = errors[-1]\n",
    "            \n",
    "            steps.append((final_error, labels, clusters))\n",
    "\n",
    "        index = np.array(steps)[:, 0].argmin()\n",
    "        \n",
    "        result_err, result_labels, result_clusters = steps[index]\n",
    "        \n",
    "        self.labels_ = result_labels\n",
    "        self.cluster_centers_ = [cluster.center for cluster in result_clusters]\n",
    "\n",
    "            \n",
    "    def error(self, labels, clusters):\n",
    "        \n",
    "        error = 0\n",
    "        \n",
    "        for point, label in zip(self.__X, labels):\n",
    "            cluster = clusters[label]\n",
    "            error += cluster.distance(point)\n",
    "            \n",
    "        return error\n",
    "            \n",
    "        "
   ]
  },
  {
   "cell_type": "code",
   "execution_count": 32,
   "metadata": {},
   "outputs": [
    {
     "data": {
      "text/plain": [
       "array([-10.47216755,   9.55192215])"
      ]
     },
     "execution_count": 32,
     "metadata": {},
     "output_type": "execute_result"
    }
   ],
   "source": [
    "random.choice(X)"
   ]
  },
  {
   "cell_type": "code",
   "execution_count": 41,
   "metadata": {},
   "outputs": [],
   "source": [
    "model = KMeansCustom(6, n_init=10)"
   ]
  },
  {
   "cell_type": "code",
   "execution_count": 42,
   "metadata": {},
   "outputs": [],
   "source": [
    "model.fit(X)"
   ]
  },
  {
   "cell_type": "code",
   "execution_count": 43,
   "metadata": {},
   "outputs": [
    {
     "data": {
      "text/plain": [
       "<matplotlib.collections.PathCollection at 0x1a1ed1a1d0>"
      ]
     },
     "execution_count": 43,
     "metadata": {},
     "output_type": "execute_result"
    },
    {
     "data": {
      "image/png": "[encoded data removed]",
      "text/plain": [
       "<Figure size 432x288 with 1 Axes>"
      ]
     },
     "metadata": {
      "needs_background": "light"
     },
     "output_type": "display_data"
    }
   ],
   "source": [
    "plt.scatter(X[:, 0], X[:, 1], c=model.labels_)"
   ]
  },
  {
   "cell_type": "code",
   "execution_count": null,
   "metadata": {},
   "outputs": [],
   "source": []
  },
  {
   "cell_type": "code",
   "execution_count": null,
   "metadata": {},
   "outputs": [],
   "source": []
  },
  {
   "cell_type": "code",
   "execution_count": null,
   "metadata": {},
   "outputs": [],
   "source": []
  }
 ],
 "metadata": {
  "kernelspec": {
   "display_name": "Python 3",
   "language": "python",
   "name": "python3"
  },
  "language_info": {
   "codemirror_mode": {
    "name": "ipython",
    "version": 3
   },
   "file_extension": ".py",
   "mimetype": "text/x-python",
   "name": "python",
   "nbconvert_exporter": "python",
   "pygments_lexer": "ipython3",
   "version": "3.7.2"
  }
 },
 "nbformat": 4,
 "nbformat_minor": 4
}
