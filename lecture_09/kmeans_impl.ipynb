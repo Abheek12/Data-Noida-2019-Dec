{
 "cells": [
  {
   "cell_type": "code",
   "execution_count": 1,
   "metadata": {},
   "outputs": [],
   "source": [
    "import numpy as np\n",
    "import matplotlib.pyplot as plt\n",
    "\n",
    "import random\n",
    "\n",
    "from sklearn.datasets import make_blobs"
   ]
  },
  {
   "cell_type": "code",
   "execution_count": 2,
   "metadata": {},
   "outputs": [],
   "source": [
    "X, y = make_blobs(centers=3, random_state=42)"
   ]
  },
  {
   "cell_type": "code",
   "execution_count": 3,
   "metadata": {},
   "outputs": [
    {
     "data": {
      "text/plain": [
       "<matplotlib.collections.PathCollection at 0x1a197c8438>"
      ]
     },
     "execution_count": 3,
     "metadata": {},
     "output_type": "execute_result"
    },
    {
     "data": {
      "image/png": "[encoded data removed]",
      "text/plain": [
       "<Figure size 432x288 with 1 Axes>"
      ]
     },
     "metadata": {
      "needs_background": "light"
     },
     "output_type": "display_data"
    }
   ],
   "source": [
    "plt.scatter(X[:, 0], X[:, 1])"
   ]
  },
  {
   "cell_type": "code",
   "execution_count": 9,
   "metadata": {},
   "outputs": [],
   "source": [
    "class Cluster:\n",
    "    \n",
    "    def __init__(self, label, center):\n",
    "        self.center = center\n",
    "        self.points = []\n",
    "        self.label = label\n",
    "        \n",
    "    def relocate(self):\n",
    "        self.center = np.mean(self.points, axis=0)\n",
    "        self.points = []\n",
    "        \n",
    "    def distance(self, point):\n",
    "        return np.sqrt(((self.center - point) ** 2).sum())\n",
    "        \n",
    "    "
   ]
  },
  {
   "cell_type": "code",
   "execution_count": 4,
   "metadata": {},
   "outputs": [],
   "source": [
    "class KMeansCustom:\n",
    "    \n",
    "    def __init__(self, n_clusters=3):\n",
    "        self.n_clusters = n_clusters\n",
    "        \n",
    "    def fit(self, X):\n",
    "        \n",
    "        self.__X = X\n",
    "        \n",
    "        \n",
    "        self.__clusters = []\n",
    "        \n",
    "        for i in range(self.n_clusters):\n",
    "            cluster = Cluster(i, random.choice(X))\n",
    "            self.__clusters.append(cluster)\n",
    "        \n",
    "        \n",
    "        for i in range(20):\n",
    "            \n",
    "            labels = []\n",
    "            \n",
    "            for point in X:\n",
    "                dist_points = []\n",
    "                for cluster in self.__clusters:\n",
    "                    dist = cluster.distance(point)\n",
    "                    dist_points.append((dist, cluster))\n",
    "                    \n",
    "                \n",
    "                selected = sorted(dist_points)[0]\n",
    "                selected_cluster = selected[1]\n",
    "                selected_cluster.points.append(point)\n",
    "                labels.append(selected_cluster.label)\n",
    "            \n",
    "            \n",
    "            for cluster in self.__clusters:\n",
    "                cluster.relocate()\n",
    "                \n",
    "       \n",
    "        list_cc = []\n",
    "        for cluster in self.__clusters:\n",
    "            list_cc.append(cluster.center)\n",
    "            \n",
    "        self.cluster_centers_ = np.array(list_cc)\n",
    "        self.labels_ = np.array(labels)\n",
    "        \n",
    "        \n",
    "    \n",
    "    def error(self):\n",
    "        \n",
    "        \n"
   ]
  },
  {
   "cell_type": "code",
   "execution_count": 27,
   "metadata": {},
   "outputs": [],
   "source": [
    "model = KMeansCustom()"
   ]
  },
  {
   "cell_type": "code",
   "execution_count": 28,
   "metadata": {},
   "outputs": [],
   "source": [
    "model.fit(X)"
   ]
  },
  {
   "cell_type": "code",
   "execution_count": 29,
   "metadata": {},
   "outputs": [
    {
     "data": {
      "text/plain": [
       "array([[-2.66780392,  8.93576069],\n",
       "       [ 4.49951001,  1.93892013],\n",
       "       [-6.95170962, -6.67621669]])"
      ]
     },
     "execution_count": 29,
     "metadata": {},
     "output_type": "execute_result"
    }
   ],
   "source": [
    "model.cluster_centers_"
   ]
  },
  {
   "cell_type": "code",
   "execution_count": 31,
   "metadata": {},
   "outputs": [
    {
     "data": {
      "image/png": "[encoded data removed]",
      "text/plain": [
       "<Figure size 432x288 with 1 Axes>"
      ]
     },
     "metadata": {
      "needs_background": "light"
     },
     "output_type": "display_data"
    }
   ],
   "source": [
    "plt.scatter(X[:, 0], X[:, 1], c=model.labels_)\n",
    "\n",
    "for center in model.cluster_centers_:\n",
    "    plt.scatter(center[0], center[1], s=80)"
   ]
  },
  {
   "cell_type": "code",
   "execution_count": null,
   "metadata": {},
   "outputs": [],
   "source": []
  }
 ],
 "metadata": {
  "kernelspec": {
   "display_name": "Python 3",
   "language": "python",
   "name": "python3"
  },
  "language_info": {
   "codemirror_mode": {
    "name": "ipython",
    "version": 3
   },
   "file_extension": ".py",
   "mimetype": "text/x-python",
   "name": "python",
   "nbconvert_exporter": "python",
   "pygments_lexer": "ipython3",
   "version": "3.7.2"
  }
 },
 "nbformat": 4,
 "nbformat_minor": 4
}
